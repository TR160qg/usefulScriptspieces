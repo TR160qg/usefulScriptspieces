{
 "cells": [
  {
   "cell_type": "markdown",
   "id": "8279a2f2",
   "metadata": {
    "id": "8279a2f2"
   },
   "source": [
    "https://stackoverflow.com/questions/138250/how-to-read-the-rgb-value-of-a-given-pixel-in-python\n",
    "## Get the RGB value for an image"
   ]
  },
  {
   "cell_type": "markdown",
   "id": "uVN_fnhRv7gj",
   "metadata": {
    "id": "uVN_fnhRv7gj"
   },
   "source": [
    "**Create an dataset where point include all RGB values from an image**"
   ]
  },
  {
   "cell_type": "code",
   "execution_count": 3,
   "id": "6fa839cf",
   "metadata": {},
   "outputs": [],
   "source": [
    "import numpy as np\n",
    "from PIL import Image"
   ]
  },
  {
   "cell_type": "code",
   "execution_count": 6,
   "id": "J520Vp3Xx2B0",
   "metadata": {
    "id": "J520Vp3Xx2B0"
   },
   "outputs": [],
   "source": [
    "n_image = 2\n",
    "imagesize = 200"
   ]
  },
  {
   "cell_type": "code",
   "execution_count": 7,
   "id": "BpV4hZmnx_Jr",
   "metadata": {
    "id": "BpV4hZmnx_Jr"
   },
   "outputs": [],
   "source": [
    "data = np.zeros((n_image, imagesize, imagesize, 3))"
   ]
  },
  {
   "cell_type": "markdown",
   "id": "NYEwMRno008G",
   "metadata": {
    "id": "NYEwMRno008G"
   },
   "source": [
    "**Creat a loop for multiple image processing**"
   ]
  },
  {
   "cell_type": "code",
   "execution_count": 130,
   "id": "X-NpI6k81GDA",
   "metadata": {
    "id": "X-NpI6k81GDA"
   },
   "outputs": [],
   "source": [
    "## number of images to be processed\n",
    "n_image = 2\n",
    "## dataset for the RGB values of all images\n",
    "data = np.zeros((n_image, imagesize, imagesize, 3))   # 3 refers to R, G, B"
   ]
  },
  {
   "cell_type": "code",
   "execution_count": 13,
   "id": "zx9th2930wss",
   "metadata": {
    "colab": {
     "base_uri": "https://localhost:8080/",
     "height": 341
    },
    "id": "zx9th2930wss",
    "outputId": "5f0af619-e694-4aa7-8f09-0a41125a11d8"
   },
   "outputs": [],
   "source": [
    "for i in range(0, n_image):\n",
    "    image = Image. open('P' + repr(i) + '.PNG')\n",
    "    imagesize = 200\n",
    "    photo = image. resize((imagesize, imagesize)) # resie all the images to the same size, here we make H and W the same\n",
    "\n",
    "    photo = photo.convert('RGB')\n",
    "\n",
    "    width = photo.size[0] #define W and H\n",
    "    height = photo.size[1]\n",
    "\n",
    "    RGB_sum = np.zeros((width,height,3))\n",
    "\n",
    "    for y in range(0, height): #each pixel has coordinates\n",
    "        row = \"\"\n",
    "        for x in range(0, width):\n",
    "            RGB = photo.getpixel((x,y))\n",
    "            R,G,B = RGB\n",
    "            RGB_sum[x, y, 0] = R #now you can use the RGB value\n",
    "            RGB_sum[x, y, 1] = G #now you can use the RGB value\n",
    "            RGB_sum[x, y, 2] = B #now you can use the RGB value\n",
    "\n",
    "    for j in range(imagesize):\n",
    "        for k in range(imagesize):\n",
    "            data[i, j, k, :] = RGB_sum[j, k]"
   ]
  },
  {
   "cell_type": "code",
   "execution_count": 14,
   "id": "R0kYvN8jw-4_",
   "metadata": {
    "id": "R0kYvN8jw-4_"
   },
   "outputs": [
    {
     "data": {
      "text/plain": [
       "(2, 200, 200, 3)"
      ]
     },
     "execution_count": 14,
     "metadata": {},
     "output_type": "execute_result"
    }
   ],
   "source": [
    "data.shape"
   ]
  },
  {
   "cell_type": "code",
   "execution_count": 18,
   "id": "5321f593",
   "metadata": {},
   "outputs": [
    {
     "data": {
      "text/plain": [
       "array([ 6., 17., 14.])"
      ]
     },
     "execution_count": 18,
     "metadata": {},
     "output_type": "execute_result"
    }
   ],
   "source": [
    "data[0, 10, 22, :]"
   ]
  },
  {
   "cell_type": "code",
   "execution_count": null,
   "id": "53c2d592",
   "metadata": {},
   "outputs": [],
   "source": []
  }
 ],
 "metadata": {
  "colab": {
   "provenance": []
  },
  "kernelspec": {
   "display_name": "Python 3 (ipykernel)",
   "language": "python",
   "name": "python3"
  },
  "language_info": {
   "codemirror_mode": {
    "name": "ipython",
    "version": 3
   },
   "file_extension": ".py",
   "mimetype": "text/x-python",
   "name": "python",
   "nbconvert_exporter": "python",
   "pygments_lexer": "ipython3",
   "version": "3.11.5"
  }
 },
 "nbformat": 4,
 "nbformat_minor": 5
}
