{
  "cells": [
    {
      "cell_type": "markdown",
      "id": "8279a2f2",
      "metadata": {
        "id": "8279a2f2"
      },
      "source": [
        "https://stackoverflow.com/questions/138250/how-to-read-the-rgb-value-of-a-given-pixel-in-python\n",
        "## Get the RGB value for an image"
      ]
    },
    {
      "cell_type": "code",
      "execution_count": 1,
      "id": "d25c5073",
      "metadata": {
        "colab": {
          "base_uri": "https://localhost:8080/"
        },
        "id": "d25c5073",
        "outputId": "d97d4c89-63b8-4e49-ded6-ea88e43e8532"
      },
      "outputs": [
        {
          "output_type": "stream",
          "name": "stdout",
          "text": [
            "Mounted at /content/drive\n"
          ]
        }
      ],
      "source": [
        "from google.colab import drive\n",
        "drive.mount('/content/drive')"
      ]
    },
    {
      "cell_type": "code",
      "execution_count": 23,
      "id": "e91dff9d",
      "metadata": {
        "id": "e91dff9d"
      },
      "outputs": [],
      "source": [
        "impath = '/content/drive/MyDrive/Colab Notebooks/Datasci/Datasets/Tesla.png'"
      ]
    },
    {
      "cell_type": "code",
      "source": [
        "import numpy as np"
      ],
      "metadata": {
        "id": "pWRSVL8MqBwU"
      },
      "id": "pWRSVL8MqBwU",
      "execution_count": 52,
      "outputs": []
    },
    {
      "cell_type": "code",
      "source": [
        "photo = Image.open(impath) #your image\n",
        "photo = photo.convert('RGB')\n",
        "\n",
        "width = photo.size[0] #define W and H\n",
        "height = photo.size[1]\n",
        "\n",
        "RGB_sum = np.zeros((width,height,3))\n",
        "\n",
        "for y in range(0, height): #each pixel has coordinates\n",
        "  row = \"\"\n",
        "  for x in range(0, width):\n",
        "    RGB = photo.getpixel((x,y))\n",
        "    R,G,B = RGB\n",
        "    RGB_sum[x, y, 0] = R #now you can use the RGB value\n",
        "    RGB_sum[x, y, 1] = G #now you can use the RGB value\n",
        "    RGB_sum[x, y, 2] = B #now you can use the RGB value\n"
      ],
      "metadata": {
        "id": "OLfSWCz3pHkq"
      },
      "id": "OLfSWCz3pHkq",
      "execution_count": 72,
      "outputs": []
    },
    {
      "cell_type": "code",
      "source": [
        "RGB_sum.shape"
      ],
      "metadata": {
        "colab": {
          "base_uri": "https://localhost:8080/"
        },
        "id": "-9Vwm0YXuZPs",
        "outputId": "6db9715e-be30-490d-8258-bba6302c7d96"
      },
      "id": "-9Vwm0YXuZPs",
      "execution_count": 73,
      "outputs": [
        {
          "output_type": "execute_result",
          "data": {
            "text/plain": [
              "(229, 354, 3)"
            ]
          },
          "metadata": {},
          "execution_count": 73
        }
      ]
    },
    {
      "cell_type": "code",
      "source": [
        "RGB_sum[2, 3, :]"
      ],
      "metadata": {
        "colab": {
          "base_uri": "https://localhost:8080/"
        },
        "id": "hzApSZM1pHUN",
        "outputId": "f660ffe0-8292-4cd3-93c4-544633c458cf"
      },
      "id": "hzApSZM1pHUN",
      "execution_count": 79,
      "outputs": [
        {
          "output_type": "execute_result",
          "data": {
            "text/plain": [
              "array([26., 25., 30.])"
            ]
          },
          "metadata": {},
          "execution_count": 79
        }
      ]
    },
    {
      "cell_type": "markdown",
      "source": [
        "**Standerdize the image size**"
      ],
      "metadata": {
        "id": "69X5R4YtuJdi"
      },
      "id": "69X5R4YtuJdi"
    },
    {
      "cell_type": "code",
      "source": [
        "image = Image. open(impath)\n",
        "new_image = image. resize((500, 500))"
      ],
      "metadata": {
        "id": "_nsbxUZklpNy"
      },
      "id": "_nsbxUZklpNy",
      "execution_count": 74,
      "outputs": []
    },
    {
      "cell_type": "code",
      "source": [
        "photo = new_image\n",
        "photo = photo.convert('RGB')\n",
        "\n",
        "width = photo.size[0] #define W and H\n",
        "height = photo.size[1]\n",
        "\n",
        "RGB_sum = np.zeros((width,height,3))\n",
        "\n",
        "for y in range(0, height): #each pixel has coordinates\n",
        "  row = \"\"\n",
        "  for x in range(0, width):\n",
        "    RGB = photo.getpixel((x,y))\n",
        "    R,G,B = RGB\n",
        "    RGB_sum[x, y, 0] = R #now you can use the RGB value\n",
        "    RGB_sum[x, y, 1] = G #now you can use the RGB value\n",
        "    RGB_sum[x, y, 2] = B #now you can use the RGB value"
      ],
      "metadata": {
        "id": "YnP4R9TOuVP2"
      },
      "id": "YnP4R9TOuVP2",
      "execution_count": 76,
      "outputs": []
    },
    {
      "cell_type": "code",
      "source": [
        "RGB_sum.shape"
      ],
      "metadata": {
        "colab": {
          "base_uri": "https://localhost:8080/"
        },
        "id": "Iqiv3F90uftU",
        "outputId": "a27e142f-01aa-4a74-f312-8599da1d3d5a"
      },
      "id": "Iqiv3F90uftU",
      "execution_count": 78,
      "outputs": [
        {
          "output_type": "execute_result",
          "data": {
            "text/plain": [
              "(500, 500, 3)"
            ]
          },
          "metadata": {},
          "execution_count": 78
        }
      ]
    },
    {
      "cell_type": "code",
      "source": [
        "RGB_sum[2, 3, :]"
      ],
      "metadata": {
        "colab": {
          "base_uri": "https://localhost:8080/"
        },
        "id": "dx9sPe99uqx7",
        "outputId": "6d0b9881-1d6a-4763-d787-f57b5c8dfb0c"
      },
      "id": "dx9sPe99uqx7",
      "execution_count": 80,
      "outputs": [
        {
          "output_type": "execute_result",
          "data": {
            "text/plain": [
              "array([26., 25., 30.])"
            ]
          },
          "metadata": {},
          "execution_count": 80
        }
      ]
    },
    {
      "cell_type": "code",
      "source": [],
      "metadata": {
        "id": "qVOvHTVluvNx"
      },
      "id": "qVOvHTVluvNx",
      "execution_count": null,
      "outputs": []
    }
  ],
  "metadata": {
    "kernelspec": {
      "display_name": "Python 3 (ipykernel)",
      "language": "python",
      "name": "python3"
    },
    "language_info": {
      "codemirror_mode": {
        "name": "ipython",
        "version": 3
      },
      "file_extension": ".py",
      "mimetype": "text/x-python",
      "name": "python",
      "nbconvert_exporter": "python",
      "pygments_lexer": "ipython3",
      "version": "3.11.5"
    },
    "colab": {
      "provenance": []
    }
  },
  "nbformat": 4,
  "nbformat_minor": 5
}